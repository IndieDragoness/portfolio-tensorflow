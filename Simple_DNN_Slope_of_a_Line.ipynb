{
 "cells": [
  {
   "cell_type": "markdown",
   "id": "68f84a11",
   "metadata": {},
   "source": [
    "# Simple Deep Neural Network"
   ]
  },
  {
   "cell_type": "code",
   "execution_count": null,
   "id": "417e5d28",
   "metadata": {},
   "outputs": [],
   "source": [
    "#@title Licensed under the Apache License, Version 2.0 (the \"License\");\n",
    "# you may not use this file except in compliance with the License.\n",
    "# You may obtain a copy of the License at\n",
    "#\n",
    "# https://www.apache.org/licenses/LICENSE-2.0\n",
    "#\n",
    "# Unless required by applicable law or agreed to in writing, software\n",
    "# distributed under the License is distributed on an \"AS IS\" BASIS,\n",
    "# WITHOUT WARRANTIES OR CONDITIONS OF ANY KIND, either express or implied.\n",
    "# See the License for the specific language governing permissions and\n",
    "# limitations under the License."
   ]
  },
  {
   "cell_type": "markdown",
   "id": "21453d7d",
   "metadata": {},
   "source": [
    "This notebook demonstrates a simple `Deep Neural Network` (DNN) fitting to a very small data set of numbers that follow a pattern. It's meant to demonstrate how to setup a simple DNN using Tensorflow."
   ]
  },
  {
   "cell_type": "code",
   "execution_count": 35,
   "id": "9c1673ea",
   "metadata": {},
   "outputs": [],
   "source": [
    "%%capture\n",
    "# Capture suppresses stdout to keep the notebook clean; remove it if you want to see a cells output\n",
    "pip install tensorflow==2.5.0;"
   ]
  },
  {
   "cell_type": "code",
   "execution_count": 36,
   "id": "7762e65c",
   "metadata": {},
   "outputs": [],
   "source": [
    "import tensorflow as tf\n",
    "import numpy as np\n",
    "from tensorflow import keras\n",
    "\n",
    "# Reduce Tensorflow output to avoid clutter and improve readability\n",
    "tf.get_logger().setLevel('ERROR')"
   ]
  },
  {
   "cell_type": "markdown",
   "id": "2f16e337",
   "metadata": {},
   "source": [
    "The `x` values below are inputs to the network. The `y` values can be considered outputs. The DNN attempts to learn the relationship or policy present between the two sets of numbers (for example, the equation of a line `y = mx + b` could be considered a policy).\n",
    "\n",
    "In `equation_model` below, the dataset models `y = mx + b` where `m = 2` and `b = 1`."
   ]
  },
  {
   "cell_type": "code",
   "execution_count": 37,
   "id": "3b067816",
   "metadata": {},
   "outputs": [],
   "source": [
    "def slope_of_a_line_model():\n",
    "    \"\"\" Trains a very simple DNN on data that represents y=mx+b, where m=2 and b=1.\n",
    "    \n",
    "        Input: None\n",
    "        Output: The trained y=mx+b DNN model.\n",
    "    \"\"\"\n",
    "    xs = np.array([1.0, 2.0, 3.0, 4.0, 5.0, 6.0], dtype=float)\n",
    "    ys = np.array([3.0, 5.0, 7.0, 9.0, 11.0, 13.0], dtype=float)\n",
    "\n",
    "    # An extremely simple DNN\n",
    "    model = tf.keras.Sequential([keras.layers.Dense(units=1, input_shape=[1])])\n",
    "    model.compile(optimizer='sgd', loss='mean_squared_error')\n",
    "    model.fit(xs, ys, epochs=1000)\n",
    "    \n",
    "    return model"
   ]
  },
  {
   "cell_type": "code",
   "execution_count": 39,
   "id": "264ac647",
   "metadata": {},
   "outputs": [],
   "source": [
    "%%capture\n",
    "# Save the model for use\n",
    "model = slope_of_a_line_model()"
   ]
  },
  {
   "cell_type": "code",
   "execution_count": 24,
   "id": "c849488e",
   "metadata": {
    "scrolled": true
   },
   "outputs": [
    {
     "name": "stdout",
     "output_type": "stream",
     "text": [
      "Input: 10.0\n",
      "Output: 2.9868273735046387\n",
      "Correct Output: 3.0\n",
      "\n",
      "Input: 10.0\n",
      "Output: 4.990841865539551\n",
      "Correct Output: 5.0\n",
      "\n",
      "Input: 10.0\n",
      "Output: 6.994856357574463\n",
      "Correct Output: 7.0\n",
      "\n",
      "Input: 10.0\n",
      "Output: 8.998871803283691\n",
      "Correct Output: 9.0\n",
      "\n",
      "Input: 10.0\n",
      "Output: 11.002886772155762\n",
      "Correct Output: 11.0\n",
      "\n",
      "Input: 10.0\n",
      "Output: 13.006900787353516\n",
      "Correct Output: 13.0\n",
      "\n",
      "Input: 10.0\n",
      "Output: 15.010915756225586\n",
      "Correct Output: 15.0\n",
      "\n",
      "Input: 10.0\n",
      "Output: 17.014930725097656\n",
      "Correct Output: 17.0\n",
      "\n",
      "Input: 10.0\n",
      "Output: 19.018945693969727\n",
      "Correct Output: 19.0\n",
      "\n",
      "Input: 10.0\n",
      "Output: 21.022960662841797\n",
      "Correct Output: 21.0\n",
      "\n"
     ]
    }
   ],
   "source": [
    "input_values = (1.0, 2.0, 3.0, 4.0, 5.0, 6.0, 7.0, 8.0, 9.0, 10.0)\n",
    "correct_outputs = (3.0, 5.0, 7.0, 9.0, 11.0, 13.0, 15.0, 17.0, 19.0, 21.0)\n",
    "predictions = []\n",
    "\n",
    "for index, input_value  in enumerate(input_values):\n",
    "    new_prediction = model.predict([input_value])\n",
    "    predictions.append(new_prediction[0])\n",
    "    print(\"Input: {}\\nOutput: {}\\nCorrect Output: {}\\n\".format(value, new_prediction[0][0], correct_outputs[index]))"
   ]
  },
  {
   "cell_type": "code",
   "execution_count": 26,
   "id": "5202c148",
   "metadata": {},
   "outputs": [
    {
     "data": {
      "text/plain": [
       "Text(0, 0.5, 'y-coordinates')"
      ]
     },
     "execution_count": 26,
     "metadata": {},
     "output_type": "execute_result"
    },
    {
     "data": {
      "image/png": "[encoded data removed]",
      "text/plain": [
       "<Figure size 432x288 with 1 Axes>"
      ]
     },
     "metadata": {
      "needs_background": "light"
     },
     "output_type": "display_data"
    }
   ],
   "source": [
    "from matplotlib import pyplot as plt\n",
    "%matplotlib inline\n",
    "x = input_values\n",
    "y = predictions\n",
    "fig = plt.figure()\n",
    "ax=fig.add_axes([0,0,1,1])\n",
    "ax.plot(x,y)\n",
    "ax.set_title(\"DNN Predicted Y-Value for given X-Value\")\n",
    "ax.set_xlabel('x-coordinates')\n",
    "ax.set_ylabel('y-coordinates')"
   ]
  }
 ],
 "metadata": {
  "kernelspec": {
   "display_name": "Python 3",
   "language": "python",
   "name": "python3"
  },
  "language_info": {
   "codemirror_mode": {
    "name": "ipython",
    "version": 3
   },
   "file_extension": ".py",
   "mimetype": "text/x-python",
   "name": "python",
   "nbconvert_exporter": "python",
   "pygments_lexer": "ipython3",
   "version": "3.8.8"
  }
 },
 "nbformat": 4,
 "nbformat_minor": 5
}
